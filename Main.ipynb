{
  "nbformat": 4,
  "nbformat_minor": 0,
  "metadata": {
    "colab": {
      "name": "Main.ipynb",
      "provenance": [],
      "authorship_tag": "ABX9TyN0yZsBBt3Ax7vGG9oPUGAo",
      "include_colab_link": true
    },
    "kernelspec": {
      "name": "python3",
      "display_name": "Python 3"
    },
    "language_info": {
      "name": "python"
    }
  },
  "cells": [
    {
      "cell_type": "markdown",
      "metadata": {
        "id": "view-in-github",
        "colab_type": "text"
      },
      "source": [
        "<a href=\"https://colab.research.google.com/github/DarkyDieL/Estudio/blob/main/Main.ipynb\" target=\"_parent\"><img src=\"https://colab.research.google.com/assets/colab-badge.svg\" alt=\"Open In Colab\"/></a>"
      ]
    },
    {
      "cell_type": "markdown",
      "source": [
        "# Sección principal\n",
        "-Importaciones\n",
        "\n",
        "-Instrucciónes escenciales\n"
      ],
      "metadata": {
        "id": "TaFAhxkw9xRT"
      }
    },
    {
      "cell_type": "code",
      "execution_count": null,
      "metadata": {
        "id": "FN9GhWbj5xkH"
      },
      "outputs": [],
      "source": [
        ""
      ]
    },
    {
      "cell_type": "markdown",
      "source": [
        "# Set de datos\n",
        "\n",
        "-Importación\n",
        "\n",
        "-Guardado\n",
        "\n",
        "-Funciones"
      ],
      "metadata": {
        "id": "osgBuNBf_uI3"
      }
    },
    {
      "cell_type": "code",
      "source": [
        ""
      ],
      "metadata": {
        "id": "OG89Y0XpAYQU"
      },
      "execution_count": null,
      "outputs": []
    },
    {
      "cell_type": "markdown",
      "source": [
        "## [Set de datos] Funciones"
      ],
      "metadata": {
        "id": "siS_UVLgAjsi"
      }
    },
    {
      "cell_type": "code",
      "source": [
        ""
      ],
      "metadata": {
        "id": "RzzL_iDSAt3n"
      },
      "execution_count": null,
      "outputs": []
    },
    {
      "cell_type": "markdown",
      "source": [
        "# Modelo\n",
        "-Capas\n",
        "\n",
        "-Configuración\n",
        "\n",
        "-Funciones"
      ],
      "metadata": {
        "id": "fmgmDtUiBIEW"
      }
    },
    {
      "cell_type": "code",
      "source": [
        ""
      ],
      "metadata": {
        "id": "px-c_pIUBXBF"
      },
      "execution_count": null,
      "outputs": []
    },
    {
      "cell_type": "markdown",
      "source": [
        "# Programación de eventos\n",
        "-Pasada de datos (formato)\n",
        "\n",
        "-Funciones de control de eventos"
      ],
      "metadata": {
        "id": "H0w-ZBckCDDJ"
      }
    },
    {
      "cell_type": "code",
      "source": [
        ""
      ],
      "metadata": {
        "id": "cEbPHtLzCRPy"
      },
      "execution_count": null,
      "outputs": []
    },
    {
      "cell_type": "markdown",
      "source": [
        "# main()"
      ],
      "metadata": {
        "id": "5QaTp5_0CYhp"
      }
    },
    {
      "cell_type": "code",
      "source": [
        ""
      ],
      "metadata": {
        "id": "RS_NVqYACtn3"
      },
      "execution_count": null,
      "outputs": []
    }
  ]
}