{
 "cells": [
  {
   "cell_type": "code",
   "execution_count": 3,
   "id": "different-posting",
   "metadata": {
    "scrolled": true
   },
   "outputs": [
    {
     "name": "stdout",
     "output_type": "stream",
     "text": [
      "Requirement already satisfied: fastai in c:\\users\\diel\\appdata\\local\\programs\\python\\python39\\lib\\site-packages (2.5.2)\n",
      "Requirement already satisfied: pillow>6.0.0 in c:\\users\\diel\\appdata\\roaming\\python\\python39\\site-packages (from fastai) (8.1.0)\n",
      "Requirement already satisfied: matplotlib in c:\\users\\diel\\appdata\\roaming\\python\\python39\\site-packages (from fastai) (3.3.4)\n",
      "Requirement already satisfied: fastprogress>=0.2.4 in c:\\users\\diel\\appdata\\local\\programs\\python\\python39\\lib\\site-packages (from fastai) (1.0.0)\n",
      "Requirement already satisfied: scipy in c:\\users\\diel\\appdata\\roaming\\python\\python39\\site-packages (from fastai) (1.6.0)\n",
      "Requirement already satisfied: pip in c:\\users\\diel\\appdata\\local\\programs\\python\\python39\\lib\\site-packages (from fastai) (21.2.4)\n",
      "Requirement already satisfied: torchvision>=0.8.2 in c:\\users\\diel\\appdata\\local\\programs\\python\\python39\\lib\\site-packages (from fastai) (0.10.1)\n",
      "Requirement already satisfied: fastcore<1.4,>=1.3.8 in c:\\users\\diel\\appdata\\local\\programs\\python\\python39\\lib\\site-packages (from fastai) (1.3.26)\n",
      "Requirement already satisfied: fastdownload<2,>=0.0.5 in c:\\users\\diel\\appdata\\local\\programs\\python\\python39\\lib\\site-packages (from fastai) (0.0.5)\n",
      "Requirement already satisfied: pyyaml in c:\\users\\diel\\appdata\\local\\programs\\python\\python39\\lib\\site-packages (from fastai) (5.4.1)\n",
      "Requirement already satisfied: scikit-learn in c:\\users\\diel\\appdata\\local\\programs\\python\\python39\\lib\\site-packages (from fastai) (1.0)\n",
      "Requirement already satisfied: requests in c:\\users\\diel\\appdata\\local\\programs\\python\\python39\\lib\\site-packages (from fastai) (2.26.0)\n",
      "Requirement already satisfied: spacy<4 in c:\\users\\diel\\appdata\\local\\programs\\python\\python39\\lib\\site-packages (from fastai) (3.1.3)\n",
      "Requirement already satisfied: torch<1.10,>=1.7.0 in c:\\users\\diel\\appdata\\local\\programs\\python\\python39\\lib\\site-packages (from fastai) (1.9.1)\n",
      "Requirement already satisfied: packaging in c:\\users\\diel\\appdata\\local\\programs\\python\\python39\\lib\\site-packages (from fastai) (20.9)\n",
      "Requirement already satisfied: pandas in c:\\users\\diel\\appdata\\roaming\\python\\python39\\site-packages (from fastai) (1.2.2)\n",
      "Requirement already satisfied: numpy in c:\\users\\diel\\appdata\\local\\programs\\python\\python39\\lib\\site-packages (from fastprogress>=0.2.4->fastai) (1.19.5)\n",
      "Requirement already satisfied: murmurhash<1.1.0,>=0.28.0 in c:\\users\\diel\\appdata\\local\\programs\\python\\python39\\lib\\site-packages (from spacy<4->fastai) (1.0.5)\n",
      "Requirement already satisfied: cymem<2.1.0,>=2.0.2 in c:\\users\\diel\\appdata\\local\\programs\\python\\python39\\lib\\site-packages (from spacy<4->fastai) (2.0.5)\n",
      "Requirement already satisfied: srsly<3.0.0,>=2.4.1 in c:\\users\\diel\\appdata\\local\\programs\\python\\python39\\lib\\site-packages (from spacy<4->fastai) (2.4.1)\n",
      "Requirement already satisfied: pydantic!=1.8,!=1.8.1,<1.9.0,>=1.7.4 in c:\\users\\diel\\appdata\\local\\programs\\python\\python39\\lib\\site-packages (from spacy<4->fastai) (1.8.2)\n",
      "Requirement already satisfied: spacy-legacy<3.1.0,>=3.0.8 in c:\\users\\diel\\appdata\\local\\programs\\python\\python39\\lib\\site-packages (from spacy<4->fastai) (3.0.8)\n",
      "Requirement already satisfied: blis<0.8.0,>=0.4.0 in c:\\users\\diel\\appdata\\local\\programs\\python\\python39\\lib\\site-packages (from spacy<4->fastai) (0.7.4)\n",
      "Requirement already satisfied: jinja2 in c:\\users\\diel\\appdata\\local\\programs\\python\\python39\\lib\\site-packages (from spacy<4->fastai) (2.11.3)\n",
      "Requirement already satisfied: setuptools in c:\\users\\diel\\appdata\\local\\programs\\python\\python39\\lib\\site-packages (from spacy<4->fastai) (49.2.1)\n",
      "Requirement already satisfied: catalogue<2.1.0,>=2.0.6 in c:\\users\\diel\\appdata\\local\\programs\\python\\python39\\lib\\site-packages (from spacy<4->fastai) (2.0.6)\n",
      "Requirement already satisfied: wasabi<1.1.0,>=0.8.1 in c:\\users\\diel\\appdata\\local\\programs\\python\\python39\\lib\\site-packages (from spacy<4->fastai) (0.8.2)\n",
      "Requirement already satisfied: tqdm<5.0.0,>=4.38.0 in c:\\users\\diel\\appdata\\local\\programs\\python\\python39\\lib\\site-packages (from spacy<4->fastai) (4.62.3)\n",
      "Requirement already satisfied: thinc<8.1.0,>=8.0.9 in c:\\users\\diel\\appdata\\local\\programs\\python\\python39\\lib\\site-packages (from spacy<4->fastai) (8.0.10)\n",
      "Requirement already satisfied: pathy>=0.3.5 in c:\\users\\diel\\appdata\\local\\programs\\python\\python39\\lib\\site-packages (from spacy<4->fastai) (0.6.0)\n",
      "Requirement already satisfied: preshed<3.1.0,>=3.0.2 in c:\\users\\diel\\appdata\\local\\programs\\python\\python39\\lib\\site-packages (from spacy<4->fastai) (3.0.5)\n",
      "Requirement already satisfied: typer<0.5.0,>=0.3.0 in c:\\users\\diel\\appdata\\local\\programs\\python\\python39\\lib\\site-packages (from spacy<4->fastai) (0.4.0)\n",
      "Requirement already satisfied: pyparsing>=2.0.2 in c:\\users\\diel\\appdata\\local\\programs\\python\\python39\\lib\\site-packages (from packaging->fastai) (2.4.7)\n",
      "Requirement already satisfied: smart-open<6.0.0,>=5.0.0 in c:\\users\\diel\\appdata\\local\\programs\\python\\python39\\lib\\site-packages (from pathy>=0.3.5->spacy<4->fastai) (5.2.1)\n",
      "Requirement already satisfied: typing-extensions>=3.7.4.3 in c:\\users\\diel\\appdata\\local\\programs\\python\\python39\\lib\\site-packages (from pydantic!=1.8,!=1.8.1,<1.9.0,>=1.7.4->spacy<4->fastai) (3.7.4.3)\n",
      "Requirement already satisfied: urllib3<1.27,>=1.21.1 in c:\\users\\diel\\appdata\\local\\programs\\python\\python39\\lib\\site-packages (from requests->fastai) (1.26.6)\n",
      "Requirement already satisfied: certifi>=2017.4.17 in c:\\users\\diel\\appdata\\local\\programs\\python\\python39\\lib\\site-packages (from requests->fastai) (2021.5.30)\n",
      "Requirement already satisfied: idna<4,>=2.5 in c:\\users\\diel\\appdata\\local\\programs\\python\\python39\\lib\\site-packages (from requests->fastai) (3.2)\n",
      "Requirement already satisfied: charset-normalizer~=2.0.0 in c:\\users\\diel\\appdata\\local\\programs\\python\\python39\\lib\\site-packages (from requests->fastai) (2.0.4)\n",
      "Requirement already satisfied: colorama in c:\\users\\diel\\appdata\\local\\programs\\python\\python39\\lib\\site-packages (from tqdm<5.0.0,>=4.38.0->spacy<4->fastai) (0.4.4)\n",
      "Requirement already satisfied: click<9.0.0,>=7.1.1 in c:\\users\\diel\\appdata\\local\\programs\\python\\python39\\lib\\site-packages (from typer<0.5.0,>=0.3.0->spacy<4->fastai) (8.0.1)\n",
      "Requirement already satisfied: MarkupSafe>=0.23 in c:\\users\\diel\\appdata\\local\\programs\\python\\python39\\lib\\site-packages (from jinja2->spacy<4->fastai) (1.1.1)\n",
      "Requirement already satisfied: python-dateutil>=2.1 in c:\\users\\diel\\appdata\\local\\programs\\python\\python39\\lib\\site-packages (from matplotlib->fastai) (2.8.1)\n",
      "Requirement already satisfied: cycler>=0.10 in c:\\users\\diel\\appdata\\roaming\\python\\python39\\site-packages (from matplotlib->fastai) (0.10.0)\n",
      "Requirement already satisfied: kiwisolver>=1.0.1 in c:\\users\\diel\\appdata\\roaming\\python\\python39\\site-packages (from matplotlib->fastai) (1.3.1)\n",
      "Requirement already satisfied: six in c:\\users\\diel\\appdata\\local\\programs\\python\\python39\\lib\\site-packages (from cycler>=0.10->matplotlib->fastai) (1.15.0)\n",
      "Requirement already satisfied: pytz>=2017.3 in c:\\users\\diel\\appdata\\roaming\\python\\python39\\site-packages (from pandas->fastai) (2021.1)\n",
      "Requirement already satisfied: joblib>=0.11 in c:\\users\\diel\\appdata\\local\\programs\\python\\python39\\lib\\site-packages (from scikit-learn->fastai) (1.0.1)\n",
      "Requirement already satisfied: threadpoolctl>=2.0.0 in c:\\users\\diel\\appdata\\local\\programs\\python\\python39\\lib\\site-packages (from scikit-learn->fastai) (2.2.0)\n"
     ]
    }
   ],
   "source": [
    "!pip install fastai\n",
    "import fastai"
   ]
  },
  {
   "cell_type": "code",
   "execution_count": 10,
   "id": "atlantic-custody",
   "metadata": {},
   "outputs": [
    {
     "name": "stderr",
     "output_type": "stream",
     "text": [
      "WARNING: Retrying (Retry(total=4, connect=None, read=None, redirect=None, status=None)) after connection broken by 'NewConnectionError('<pip._vendor.urllib3.connection.HTTPSConnection object at 0x000002498F0B18B0>: Failed to establish a new connection: [WinError 10061] No se puede establecer una conexión ya que el equipo de destino denegó expresamente dicha conexión')': /simple/pytorch/\n",
      "WARNING: Retrying (Retry(total=3, connect=None, read=None, redirect=None, status=None)) after connection broken by 'NewConnectionError('<pip._vendor.urllib3.connection.HTTPSConnection object at 0x000002498F0B1F70>: Failed to establish a new connection: [WinError 10061] No se puede establecer una conexión ya que el equipo de destino denegó expresamente dicha conexión')': /simple/pytorch/\n",
      "WARNING: Retrying (Retry(total=2, connect=None, read=None, redirect=None, status=None)) after connection broken by 'NewConnectionError('<pip._vendor.urllib3.connection.HTTPSConnection object at 0x000002498F0B1CD0>: Failed to establish a new connection: [WinError 10061] No se puede establecer una conexión ya que el equipo de destino denegó expresamente dicha conexión')': /simple/pytorch/\n",
      "WARNING: Retrying (Retry(total=1, connect=None, read=None, redirect=None, status=None)) after connection broken by 'NewConnectionError('<pip._vendor.urllib3.connection.HTTPSConnection object at 0x000002498F0B1DC0>: Failed to establish a new connection: [WinError 10061] No se puede establecer una conexión ya que el equipo de destino denegó expresamente dicha conexión')': /simple/pytorch/\n",
      "WARNING: Retrying (Retry(total=0, connect=None, read=None, redirect=None, status=None)) after connection broken by 'NewConnectionError('<pip._vendor.urllib3.connection.HTTPSConnection object at 0x000002498F0B6160>: Failed to establish a new connection: [WinError 10061] No se puede establecer una conexión ya que el equipo de destino denegó expresamente dicha conexión')': /simple/pytorch/\n",
      "ERROR: Could not find a version that satisfies the requirement pytorch (from versions: none)\n",
      "ERROR: No matching distribution found for pytorch\n"
     ]
    }
   ],
   "source": [
    "!pip install pytorch"
   ]
  },
  {
   "cell_type": "code",
   "execution_count": 9,
   "id": "continent-battery",
   "metadata": {},
   "outputs": [
    {
     "data": {
      "text/plain": [
       "<module 'fastai' from 'c:\\\\users\\\\diel\\\\appdata\\\\local\\\\programs\\\\python\\\\python39\\\\lib\\\\site-packages\\\\fastai\\\\__init__.py'>"
      ]
     },
     "execution_count": 9,
     "metadata": {},
     "output_type": "execute_result"
    }
   ],
   "source": [
    "fastai"
   ]
  },
  {
   "cell_type": "markdown",
   "id": "bulgarian-velvet",
   "metadata": {},
   "source": [
    "mkdir ~/jupyter\n",
    "mkdir ~/jupyter/root"
   ]
  },
  {
   "cell_type": "code",
   "execution_count": null,
   "id": "tropical-spine",
   "metadata": {},
   "outputs": [],
   "source": [
    "!python -c \"import IPython;print(IPython.lib.passwd())\""
   ]
  },
  {
   "cell_type": "code",
   "execution_count": null,
   "id": "premium-buying",
   "metadata": {},
   "outputs": [],
   "source": [
    "!jupyter notebook --generate-config --allow-root"
   ]
  },
  {
   "cell_type": "code",
   "execution_count": null,
   "id": "numeric-picnic",
   "metadata": {},
   "outputs": [],
   "source": [
    "!vim ~/.jupyter/jupyter_notebook_config.py"
   ]
  },
  {
   "cell_type": "code",
   "execution_count": null,
   "id": "decreased-tomato",
   "metadata": {},
   "outputs": [],
   "source": [
    "c.NotebookApp.ip = '*' # Permitir que todas las direcciones IP accedan\n",
    "c.NotebookApp.allow_root = True\n",
    "c.NotebookApp.open_browser = False\n",
    " c.NotebookApp.port = 8118 # El puerto se puede modificar según sea necesario, ¡pero debe corresponder a este último!\n",
    " c.NotebookApp.password = u'sha1: la contraseña sha1 recién generada '\n",
    " c.ContentsManager.root_dir = '~ / jupyter / root' # El directorio que se ha creado antes, tenga en cuenta que ~ puede no ser útil, solo use la ruta completa que comienza con /\n",
    " c.NotebookApp.allow_remote_access = True # Establecer para permitir el acceso remoto; de lo contrario, se puede abrir el navegador, pero se prohibirá la creación de archivos\n"
   ]
  },
  {
   "cell_type": "code",
   "execution_count": null,
   "id": "continental-clock",
   "metadata": {},
   "outputs": [],
   "source": [
    "nohup jupyter notebook > ~/jupyter/jupyter.log 2>&1 &\n"
   ]
  },
  {
   "cell_type": "code",
   "execution_count": null,
   "id": "figured-freeze",
   "metadata": {},
   "outputs": [],
   "source": [
    " ssh -N -f -L localhost:8000:localhost:8118 -p 2222 username@server_ip\n"
   ]
  },
  {
   "cell_type": "code",
   "execution_count": null,
   "id": "spatial-checklist",
   "metadata": {},
   "outputs": [],
   "source": [
    " sudo chmod +777 ~/.local/share/jupyter\n",
    " sudo chmod +777 ~/.local/share/jupyter/runtime\n"
   ]
  }
 ],
 "metadata": {
  "kernelspec": {
   "display_name": "Python 3",
   "language": "python",
   "name": "python3"
  },
  "language_info": {
   "codemirror_mode": {
    "name": "ipython",
    "version": 3
   },
   "file_extension": ".py",
   "mimetype": "text/x-python",
   "name": "python",
   "nbconvert_exporter": "python",
   "pygments_lexer": "ipython3",
   "version": "3.9.1"
  }
 },
 "nbformat": 4,
 "nbformat_minor": 5
}
